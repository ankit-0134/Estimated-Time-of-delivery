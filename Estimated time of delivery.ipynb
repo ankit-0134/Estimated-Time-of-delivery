{
 "cells": [
  {
   "cell_type": "code",
   "execution_count": 1,
   "id": "42bb2b2a",
   "metadata": {},
   "outputs": [],
   "source": [
    "import numpy as np\n",
    "import pandas as pd"
   ]
  },
  {
   "cell_type": "code",
   "execution_count": 2,
   "id": "57eff255",
   "metadata": {},
   "outputs": [],
   "source": [
    "df=pd.read_csv(r\"C:\\Users\\ankit\\Downloads\\Zomato Dataset.csv\")"
   ]
  },
  {
   "cell_type": "markdown",
   "id": "a31cb1e4",
   "metadata": {},
   "source": [
    "Data Processing"
   ]
  },
  {
   "cell_type": "code",
   "execution_count": 3,
   "id": "fdc27ec4",
   "metadata": {},
   "outputs": [
    {
     "data": {
      "text/html": [
       "<div>\n",
       "<style scoped>\n",
       "    .dataframe tbody tr th:only-of-type {\n",
       "        vertical-align: middle;\n",
       "    }\n",
       "\n",
       "    .dataframe tbody tr th {\n",
       "        vertical-align: top;\n",
       "    }\n",
       "\n",
       "    .dataframe thead th {\n",
       "        text-align: right;\n",
       "    }\n",
       "</style>\n",
       "<table border=\"1\" class=\"dataframe\">\n",
       "  <thead>\n",
       "    <tr style=\"text-align: right;\">\n",
       "      <th></th>\n",
       "      <th>ID</th>\n",
       "      <th>Delivery_person_ID</th>\n",
       "      <th>Delivery_person_Age</th>\n",
       "      <th>Delivery_person_Ratings</th>\n",
       "      <th>Restaurant_latitude</th>\n",
       "      <th>Restaurant_longitude</th>\n",
       "      <th>Delivery_location_latitude</th>\n",
       "      <th>Delivery_location_longitude</th>\n",
       "      <th>Order_Date</th>\n",
       "      <th>Time_Orderd</th>\n",
       "      <th>Time_Order_picked</th>\n",
       "      <th>Weather_conditions</th>\n",
       "      <th>Road_traffic_density</th>\n",
       "      <th>Vehicle_condition</th>\n",
       "      <th>Type_of_order</th>\n",
       "      <th>Type_of_vehicle</th>\n",
       "      <th>multiple_deliveries</th>\n",
       "      <th>Festival</th>\n",
       "      <th>City</th>\n",
       "      <th>Time_taken (min)</th>\n",
       "    </tr>\n",
       "  </thead>\n",
       "  <tbody>\n",
       "    <tr>\n",
       "      <th>0</th>\n",
       "      <td>0xcdcd</td>\n",
       "      <td>DEHRES17DEL01</td>\n",
       "      <td>36.0</td>\n",
       "      <td>4.2</td>\n",
       "      <td>30.327968</td>\n",
       "      <td>78.046106</td>\n",
       "      <td>30.397968</td>\n",
       "      <td>78.116106</td>\n",
       "      <td>12-02-2022</td>\n",
       "      <td>21:55</td>\n",
       "      <td>22:10</td>\n",
       "      <td>Fog</td>\n",
       "      <td>Jam</td>\n",
       "      <td>2</td>\n",
       "      <td>Snack</td>\n",
       "      <td>motorcycle</td>\n",
       "      <td>3.0</td>\n",
       "      <td>No</td>\n",
       "      <td>Metropolitian</td>\n",
       "      <td>46</td>\n",
       "    </tr>\n",
       "    <tr>\n",
       "      <th>1</th>\n",
       "      <td>0xd987</td>\n",
       "      <td>KOCRES16DEL01</td>\n",
       "      <td>21.0</td>\n",
       "      <td>4.7</td>\n",
       "      <td>10.003064</td>\n",
       "      <td>76.307589</td>\n",
       "      <td>10.043064</td>\n",
       "      <td>76.347589</td>\n",
       "      <td>13-02-2022</td>\n",
       "      <td>14:55</td>\n",
       "      <td>15:05</td>\n",
       "      <td>Stormy</td>\n",
       "      <td>High</td>\n",
       "      <td>1</td>\n",
       "      <td>Meal</td>\n",
       "      <td>motorcycle</td>\n",
       "      <td>1.0</td>\n",
       "      <td>No</td>\n",
       "      <td>Metropolitian</td>\n",
       "      <td>23</td>\n",
       "    </tr>\n",
       "    <tr>\n",
       "      <th>2</th>\n",
       "      <td>0x2784</td>\n",
       "      <td>PUNERES13DEL03</td>\n",
       "      <td>23.0</td>\n",
       "      <td>4.7</td>\n",
       "      <td>18.562450</td>\n",
       "      <td>73.916619</td>\n",
       "      <td>18.652450</td>\n",
       "      <td>74.006619</td>\n",
       "      <td>04-03-2022</td>\n",
       "      <td>17:30</td>\n",
       "      <td>17:40</td>\n",
       "      <td>Sandstorms</td>\n",
       "      <td>Medium</td>\n",
       "      <td>1</td>\n",
       "      <td>Drinks</td>\n",
       "      <td>scooter</td>\n",
       "      <td>1.0</td>\n",
       "      <td>No</td>\n",
       "      <td>Metropolitian</td>\n",
       "      <td>21</td>\n",
       "    </tr>\n",
       "    <tr>\n",
       "      <th>3</th>\n",
       "      <td>0xc8b6</td>\n",
       "      <td>LUDHRES15DEL02</td>\n",
       "      <td>34.0</td>\n",
       "      <td>4.3</td>\n",
       "      <td>30.899584</td>\n",
       "      <td>75.809346</td>\n",
       "      <td>30.919584</td>\n",
       "      <td>75.829346</td>\n",
       "      <td>13-02-2022</td>\n",
       "      <td>09:20</td>\n",
       "      <td>09:30</td>\n",
       "      <td>Sandstorms</td>\n",
       "      <td>Low</td>\n",
       "      <td>0</td>\n",
       "      <td>Buffet</td>\n",
       "      <td>motorcycle</td>\n",
       "      <td>0.0</td>\n",
       "      <td>No</td>\n",
       "      <td>Metropolitian</td>\n",
       "      <td>20</td>\n",
       "    </tr>\n",
       "    <tr>\n",
       "      <th>4</th>\n",
       "      <td>0xdb64</td>\n",
       "      <td>KNPRES14DEL02</td>\n",
       "      <td>24.0</td>\n",
       "      <td>4.7</td>\n",
       "      <td>26.463504</td>\n",
       "      <td>80.372929</td>\n",
       "      <td>26.593504</td>\n",
       "      <td>80.502929</td>\n",
       "      <td>14-02-2022</td>\n",
       "      <td>19:50</td>\n",
       "      <td>20:05</td>\n",
       "      <td>Fog</td>\n",
       "      <td>Jam</td>\n",
       "      <td>1</td>\n",
       "      <td>Snack</td>\n",
       "      <td>scooter</td>\n",
       "      <td>1.0</td>\n",
       "      <td>No</td>\n",
       "      <td>Metropolitian</td>\n",
       "      <td>41</td>\n",
       "    </tr>\n",
       "  </tbody>\n",
       "</table>\n",
       "</div>"
      ],
      "text/plain": [
       "       ID Delivery_person_ID  Delivery_person_Age  Delivery_person_Ratings  \\\n",
       "0  0xcdcd      DEHRES17DEL01                 36.0                      4.2   \n",
       "1  0xd987      KOCRES16DEL01                 21.0                      4.7   \n",
       "2  0x2784     PUNERES13DEL03                 23.0                      4.7   \n",
       "3  0xc8b6     LUDHRES15DEL02                 34.0                      4.3   \n",
       "4  0xdb64      KNPRES14DEL02                 24.0                      4.7   \n",
       "\n",
       "   Restaurant_latitude  Restaurant_longitude  Delivery_location_latitude  \\\n",
       "0            30.327968             78.046106                   30.397968   \n",
       "1            10.003064             76.307589                   10.043064   \n",
       "2            18.562450             73.916619                   18.652450   \n",
       "3            30.899584             75.809346                   30.919584   \n",
       "4            26.463504             80.372929                   26.593504   \n",
       "\n",
       "   Delivery_location_longitude  Order_Date Time_Orderd Time_Order_picked  \\\n",
       "0                    78.116106  12-02-2022       21:55             22:10   \n",
       "1                    76.347589  13-02-2022       14:55             15:05   \n",
       "2                    74.006619  04-03-2022       17:30             17:40   \n",
       "3                    75.829346  13-02-2022       09:20             09:30   \n",
       "4                    80.502929  14-02-2022       19:50             20:05   \n",
       "\n",
       "  Weather_conditions Road_traffic_density  Vehicle_condition Type_of_order  \\\n",
       "0                Fog                  Jam                  2         Snack   \n",
       "1             Stormy                 High                  1          Meal   \n",
       "2         Sandstorms               Medium                  1        Drinks   \n",
       "3         Sandstorms                  Low                  0        Buffet   \n",
       "4                Fog                  Jam                  1         Snack   \n",
       "\n",
       "  Type_of_vehicle  multiple_deliveries Festival           City  \\\n",
       "0      motorcycle                  3.0       No  Metropolitian   \n",
       "1      motorcycle                  1.0       No  Metropolitian   \n",
       "2         scooter                  1.0       No  Metropolitian   \n",
       "3      motorcycle                  0.0       No  Metropolitian   \n",
       "4         scooter                  1.0       No  Metropolitian   \n",
       "\n",
       "   Time_taken (min)  \n",
       "0                46  \n",
       "1                23  \n",
       "2                21  \n",
       "3                20  \n",
       "4                41  "
      ]
     },
     "execution_count": 3,
     "metadata": {},
     "output_type": "execute_result"
    }
   ],
   "source": [
    "df.head()"
   ]
  },
  {
   "cell_type": "code",
   "execution_count": 4,
   "id": "31461fc6",
   "metadata": {},
   "outputs": [
    {
     "data": {
      "text/plain": [
       "(45584, 20)"
      ]
     },
     "execution_count": 4,
     "metadata": {},
     "output_type": "execute_result"
    }
   ],
   "source": [
    "df.shape"
   ]
  },
  {
   "cell_type": "code",
   "execution_count": 5,
   "id": "8d900dcd",
   "metadata": {},
   "outputs": [
    {
     "data": {
      "text/plain": [
       "ID                                0\n",
       "Delivery_person_ID                0\n",
       "Delivery_person_Age            1854\n",
       "Delivery_person_Ratings        1908\n",
       "Restaurant_latitude               0\n",
       "Restaurant_longitude              0\n",
       "Delivery_location_latitude        0\n",
       "Delivery_location_longitude       0\n",
       "Order_Date                        0\n",
       "Time_Orderd                    1731\n",
       "Time_Order_picked                 0\n",
       "Weather_conditions              616\n",
       "Road_traffic_density            601\n",
       "Vehicle_condition                 0\n",
       "Type_of_order                     0\n",
       "Type_of_vehicle                   0\n",
       "multiple_deliveries             993\n",
       "Festival                        228\n",
       "City                           1200\n",
       "Time_taken (min)                  0\n",
       "dtype: int64"
      ]
     },
     "execution_count": 5,
     "metadata": {},
     "output_type": "execute_result"
    }
   ],
   "source": [
    "df.isnull().sum()\n"
   ]
  },
  {
   "cell_type": "code",
   "execution_count": 6,
   "id": "858a2194",
   "metadata": {},
   "outputs": [
    {
     "data": {
      "text/plain": [
       "ID                              object\n",
       "Delivery_person_ID              object\n",
       "Delivery_person_Age            float64\n",
       "Delivery_person_Ratings        float64\n",
       "Restaurant_latitude            float64\n",
       "Restaurant_longitude           float64\n",
       "Delivery_location_latitude     float64\n",
       "Delivery_location_longitude    float64\n",
       "Order_Date                      object\n",
       "Time_Orderd                     object\n",
       "Time_Order_picked               object\n",
       "Weather_conditions              object\n",
       "Road_traffic_density            object\n",
       "Vehicle_condition                int64\n",
       "Type_of_order                   object\n",
       "Type_of_vehicle                 object\n",
       "multiple_deliveries            float64\n",
       "Festival                        object\n",
       "City                            object\n",
       "Time_taken (min)                 int64\n",
       "dtype: object"
      ]
     },
     "execution_count": 6,
     "metadata": {},
     "output_type": "execute_result"
    }
   ],
   "source": [
    "df.dtypes"
   ]
  },
  {
   "cell_type": "markdown",
   "id": "1afdde5e",
   "metadata": {},
   "source": [
    "Missing values handling"
   ]
  },
  {
   "cell_type": "code",
   "execution_count": 7,
   "id": "c23f43bb",
   "metadata": {},
   "outputs": [],
   "source": [
    "df['Delivery_person_Age'].fillna(df['Delivery_person_Age'].median(), inplace=True)\n",
    "df['Delivery_person_Ratings'].fillna(df['Delivery_person_Ratings'].median(), inplace=True)\n",
    "df['multiple_deliveries'].fillna(df['multiple_deliveries'].median(), inplace=True)\n"
   ]
  },
  {
   "cell_type": "code",
   "execution_count": 8,
   "id": "f8721446",
   "metadata": {},
   "outputs": [],
   "source": [
    "categorical_cols = ['Weather_conditions', 'Road_traffic_density', 'Festival', 'City', 'Time_Orderd']\n",
    "for col in categorical_cols:\n",
    "    df[col].fillna(df[col].mode()[0], inplace=True)\n"
   ]
  },
  {
   "cell_type": "code",
   "execution_count": 9,
   "id": "92336801",
   "metadata": {},
   "outputs": [
    {
     "data": {
      "text/plain": [
       "ID                             0\n",
       "Delivery_person_ID             0\n",
       "Delivery_person_Age            0\n",
       "Delivery_person_Ratings        0\n",
       "Restaurant_latitude            0\n",
       "Restaurant_longitude           0\n",
       "Delivery_location_latitude     0\n",
       "Delivery_location_longitude    0\n",
       "Order_Date                     0\n",
       "Time_Orderd                    0\n",
       "Time_Order_picked              0\n",
       "Weather_conditions             0\n",
       "Road_traffic_density           0\n",
       "Vehicle_condition              0\n",
       "Type_of_order                  0\n",
       "Type_of_vehicle                0\n",
       "multiple_deliveries            0\n",
       "Festival                       0\n",
       "City                           0\n",
       "Time_taken (min)               0\n",
       "dtype: int64"
      ]
     },
     "execution_count": 9,
     "metadata": {},
     "output_type": "execute_result"
    }
   ],
   "source": [
    "df.isnull().sum()\n"
   ]
  },
  {
   "cell_type": "markdown",
   "id": "8da9c926",
   "metadata": {},
   "source": [
    "One Hot Encoding"
   ]
  },
  {
   "cell_type": "code",
   "execution_count": 10,
   "id": "b4f85e09",
   "metadata": {},
   "outputs": [],
   "source": [
    "df = pd.get_dummies(df, columns=[\n",
    "    'Weather_conditions', \n",
    "    'Road_traffic_density', \n",
    "    'Type_of_order', \n",
    "    'Type_of_vehicle', \n",
    "    'Festival', \n",
    "    'City'\n",
    "], drop_first=True)\n"
   ]
  },
  {
   "cell_type": "code",
   "execution_count": 11,
   "id": "e66e4d1f",
   "metadata": {},
   "outputs": [
    {
     "data": {
      "text/plain": [
       "Index(['ID', 'Delivery_person_ID', 'Delivery_person_Age',\n",
       "       'Delivery_person_Ratings', 'Restaurant_latitude',\n",
       "       'Restaurant_longitude', 'Delivery_location_latitude',\n",
       "       'Delivery_location_longitude', 'Order_Date', 'Time_Orderd',\n",
       "       'Time_Order_picked', 'Vehicle_condition', 'multiple_deliveries',\n",
       "       'Time_taken (min)', 'Weather_conditions_Fog',\n",
       "       'Weather_conditions_Sandstorms', 'Weather_conditions_Stormy',\n",
       "       'Weather_conditions_Sunny', 'Weather_conditions_Windy',\n",
       "       'Road_traffic_density_Jam', 'Road_traffic_density_Low',\n",
       "       'Road_traffic_density_Medium', 'Type_of_order_Drinks',\n",
       "       'Type_of_order_Meal', 'Type_of_order_Snack',\n",
       "       'Type_of_vehicle_electric_scooter', 'Type_of_vehicle_motorcycle',\n",
       "       'Type_of_vehicle_scooter', 'Festival_Yes', 'City_Semi-Urban',\n",
       "       'City_Urban'],\n",
       "      dtype='object')"
      ]
     },
     "execution_count": 11,
     "metadata": {},
     "output_type": "execute_result"
    }
   ],
   "source": [
    "df.columns"
   ]
  },
  {
   "cell_type": "code",
   "execution_count": 12,
   "id": "1bbcea2f",
   "metadata": {},
   "outputs": [],
   "source": [
    "# Convert to datetime\n",
    "df['Time_Orderd'] = pd.to_datetime(df['Time_Orderd'], format='%H:%M', errors='coerce')\n",
    "df['Time_Order_picked'] = pd.to_datetime(df['Time_Order_picked'], format='%H:%M', errors='coerce')\n",
    "df['Order_Date'] = pd.to_datetime(df['Order_Date'], errors='coerce')\n",
    "\n",
    "# Fill missing times with mode\n",
    "df['Time_Orderd'].fillna(df['Time_Orderd'].mode()[0], inplace=True)\n",
    "df['Time_Order_picked'].fillna(df['Time_Order_picked'].mode()[0], inplace=True)\n",
    "\n",
    "# Extract useful time features\n",
    "df['order_hour'] = df['Time_Orderd'].dt.hour\n",
    "df['pickup_hour'] = df['Time_Order_picked'].dt.hour\n",
    "df['order_dayofweek'] = df['Order_Date'].dt.dayofweek  # 0=Monday\n",
    "\n",
    "# Pickup delay in minutes\n",
    "df['pickup_delay'] = (df['Time_Order_picked'] - df['Time_Orderd']).dt.total_seconds() / 60\n",
    "\n",
    "# Drop original datetime columns\n",
    "df.drop(['Time_Orderd', 'Time_Order_picked', 'Order_Date'], axis=1, inplace=True)\n"
   ]
  },
  {
   "cell_type": "code",
   "execution_count": 13,
   "id": "2f790941",
   "metadata": {},
   "outputs": [
    {
     "data": {
      "text/plain": [
       "Index(['ID', 'Delivery_person_ID', 'Delivery_person_Age',\n",
       "       'Delivery_person_Ratings', 'Restaurant_latitude',\n",
       "       'Restaurant_longitude', 'Delivery_location_latitude',\n",
       "       'Delivery_location_longitude', 'Vehicle_condition',\n",
       "       'multiple_deliveries', 'Time_taken (min)', 'Weather_conditions_Fog',\n",
       "       'Weather_conditions_Sandstorms', 'Weather_conditions_Stormy',\n",
       "       'Weather_conditions_Sunny', 'Weather_conditions_Windy',\n",
       "       'Road_traffic_density_Jam', 'Road_traffic_density_Low',\n",
       "       'Road_traffic_density_Medium', 'Type_of_order_Drinks',\n",
       "       'Type_of_order_Meal', 'Type_of_order_Snack',\n",
       "       'Type_of_vehicle_electric_scooter', 'Type_of_vehicle_motorcycle',\n",
       "       'Type_of_vehicle_scooter', 'Festival_Yes', 'City_Semi-Urban',\n",
       "       'City_Urban', 'order_hour', 'pickup_hour', 'order_dayofweek',\n",
       "       'pickup_delay'],\n",
       "      dtype='object')"
      ]
     },
     "execution_count": 13,
     "metadata": {},
     "output_type": "execute_result"
    }
   ],
   "source": [
    "df.columns"
   ]
  },
  {
   "cell_type": "code",
   "execution_count": 14,
   "id": "7cfa1a58",
   "metadata": {},
   "outputs": [],
   "source": [
    "df['travel_time_after_pickup'] = df['Time_taken (min)'] - df['pickup_delay']\n"
   ]
  },
  {
   "cell_type": "code",
   "execution_count": 15,
   "id": "07bda2b2",
   "metadata": {},
   "outputs": [
    {
     "data": {
      "text/plain": [
       "ID                                   object\n",
       "Delivery_person_ID                   object\n",
       "Delivery_person_Age                 float64\n",
       "Delivery_person_Ratings             float64\n",
       "Restaurant_latitude                 float64\n",
       "Restaurant_longitude                float64\n",
       "Delivery_location_latitude          float64\n",
       "Delivery_location_longitude         float64\n",
       "Vehicle_condition                     int64\n",
       "multiple_deliveries                 float64\n",
       "Time_taken (min)                      int64\n",
       "Weather_conditions_Fog                 bool\n",
       "Weather_conditions_Sandstorms          bool\n",
       "Weather_conditions_Stormy              bool\n",
       "Weather_conditions_Sunny               bool\n",
       "Weather_conditions_Windy               bool\n",
       "Road_traffic_density_Jam               bool\n",
       "Road_traffic_density_Low               bool\n",
       "Road_traffic_density_Medium            bool\n",
       "Type_of_order_Drinks                   bool\n",
       "Type_of_order_Meal                     bool\n",
       "Type_of_order_Snack                    bool\n",
       "Type_of_vehicle_electric_scooter       bool\n",
       "Type_of_vehicle_motorcycle             bool\n",
       "Type_of_vehicle_scooter                bool\n",
       "Festival_Yes                           bool\n",
       "City_Semi-Urban                        bool\n",
       "City_Urban                             bool\n",
       "order_hour                            int32\n",
       "pickup_hour                           int32\n",
       "order_dayofweek                     float64\n",
       "pickup_delay                        float64\n",
       "travel_time_after_pickup            float64\n",
       "dtype: object"
      ]
     },
     "execution_count": 15,
     "metadata": {},
     "output_type": "execute_result"
    }
   ],
   "source": [
    "df.dtypes"
   ]
  },
  {
   "cell_type": "code",
   "execution_count": 16,
   "id": "40f115bc",
   "metadata": {},
   "outputs": [],
   "source": [
    "# Create weekend flag\n",
    "df['is_weekend'] = df['order_dayofweek'].apply(lambda x: 1 if x in [5, 6] else 0)\n",
    "\n",
    "# Drop the original day-of-week column\n",
    "df.drop('order_dayofweek', axis=1, inplace=True)\n"
   ]
  },
  {
   "cell_type": "markdown",
   "id": "972c19b3",
   "metadata": {},
   "source": [
    "Calculating distance using latitude and Longitude"
   ]
  },
  {
   "cell_type": "code",
   "execution_count": 17,
   "id": "f4be600e",
   "metadata": {},
   "outputs": [],
   "source": [
    "import numpy as np\n",
    "\n",
    "def haversine(lat1, lon1, lat2, lon2):\n",
    "    R = 6371  # Earth radius in km\n",
    "    lat1, lon1, lat2, lon2 = map(np.radians, [lat1, lon1, lat2, lon2])\n",
    "    dlat = lat2 - lat1\n",
    "    dlon = lon2 - lon1\n",
    "    a = np.sin(dlat/2)**2 + np.cos(lat1) * np.cos(lat2) * np.sin(dlon/2)**2\n",
    "    c = 2 * np.arcsin(np.sqrt(a))\n",
    "    return R * c\n",
    "\n",
    "df['distance_km'] = haversine(\n",
    "    df['Restaurant_latitude'], df['Restaurant_longitude'],\n",
    "    df['Delivery_location_latitude'], df['Delivery_location_longitude']\n",
    ")\n"
   ]
  },
  {
   "cell_type": "code",
   "execution_count": 18,
   "id": "4cd6009a",
   "metadata": {},
   "outputs": [
    {
     "data": {
      "text/plain": [
       "Index(['ID', 'Delivery_person_ID', 'Delivery_person_Age',\n",
       "       'Delivery_person_Ratings', 'Restaurant_latitude',\n",
       "       'Restaurant_longitude', 'Delivery_location_latitude',\n",
       "       'Delivery_location_longitude', 'Vehicle_condition',\n",
       "       'multiple_deliveries', 'Time_taken (min)', 'Weather_conditions_Fog',\n",
       "       'Weather_conditions_Sandstorms', 'Weather_conditions_Stormy',\n",
       "       'Weather_conditions_Sunny', 'Weather_conditions_Windy',\n",
       "       'Road_traffic_density_Jam', 'Road_traffic_density_Low',\n",
       "       'Road_traffic_density_Medium', 'Type_of_order_Drinks',\n",
       "       'Type_of_order_Meal', 'Type_of_order_Snack',\n",
       "       'Type_of_vehicle_electric_scooter', 'Type_of_vehicle_motorcycle',\n",
       "       'Type_of_vehicle_scooter', 'Festival_Yes', 'City_Semi-Urban',\n",
       "       'City_Urban', 'order_hour', 'pickup_hour', 'pickup_delay',\n",
       "       'travel_time_after_pickup', 'is_weekend', 'distance_km'],\n",
       "      dtype='object')"
      ]
     },
     "execution_count": 18,
     "metadata": {},
     "output_type": "execute_result"
    }
   ],
   "source": [
    "df.columns"
   ]
  },
  {
   "cell_type": "markdown",
   "id": "f112a31e",
   "metadata": {},
   "source": [
    "Clipping the values to be between 0 and 180 minutes"
   ]
  },
  {
   "cell_type": "code",
   "execution_count": 19,
   "id": "9e010177",
   "metadata": {},
   "outputs": [],
   "source": [
    "# Keep only values between 0 and, say, 180 minutes (3 hours)\n",
    "df = df[(df['travel_time_after_pickup'] >= 0) & (df['travel_time_after_pickup'] <= 180)] \n"
   ]
  },
  {
   "cell_type": "code",
   "execution_count": 20,
   "id": "514c6e8e",
   "metadata": {},
   "outputs": [
    {
     "data": {
      "text/plain": [
       "min       0.000000\n",
       "max     180.000000\n",
       "mean     24.820622\n",
       "Name: travel_time_after_pickup, dtype: float64"
      ]
     },
     "execution_count": 20,
     "metadata": {},
     "output_type": "execute_result"
    }
   ],
   "source": [
    "df['travel_time_after_pickup'].agg(['min', 'max', 'mean'])"
   ]
  },
  {
   "cell_type": "markdown",
   "id": "fdb5ee2c",
   "metadata": {},
   "source": [
    "Predicting pickup delay"
   ]
  },
  {
   "cell_type": "code",
   "execution_count": 21,
   "id": "6ad97ce1",
   "metadata": {},
   "outputs": [
    {
     "name": "stdout",
     "output_type": "stream",
     "text": [
      "\n",
      "=== Pickup Delay: Model Comparison ===\n",
      "              Model       MAE      RMSE\n",
      "0  GradientBoosting  3.857337  4.691018\n",
      "1      RandomForest  3.929837  4.762237\n",
      "2             Ridge  4.040974  4.873550\n",
      "\n",
      "Top features — Ridge:\n",
      "                          Feature    Weight\n",
      "10    Road_traffic_density_Medium  0.888321\n",
      "0                      order_hour -0.714673\n",
      "9        Road_traffic_density_Low -0.598694\n",
      "8        Road_traffic_density_Jam  0.560912\n",
      "14                City_Semi-Urban  0.395944\n",
      "6        Weather_conditions_Sunny -0.351064\n",
      "15                     City_Urban -0.139909\n",
      "3          Weather_conditions_Fog -0.134011\n",
      "5       Weather_conditions_Stormy -0.126001\n",
      "4   Weather_conditions_Sandstorms -0.123559\n",
      "\n",
      "Top features — RandomForest:\n",
      "                          Feature  Importance\n",
      "0                      order_hour    0.449759\n",
      "8        Road_traffic_density_Jam    0.203818\n",
      "1                      is_weekend    0.047322\n",
      "15                     City_Urban    0.040452\n",
      "12             Type_of_order_Meal    0.038278\n",
      "13            Type_of_order_Snack    0.035524\n",
      "11           Type_of_order_Drinks    0.033710\n",
      "3          Weather_conditions_Fog    0.028271\n",
      "4   Weather_conditions_Sandstorms    0.023523\n",
      "5       Weather_conditions_Stormy    0.023175\n",
      "\n",
      "Top features — GradientBoosting:\n",
      "                          Feature  Importance\n",
      "0                      order_hour    0.609262\n",
      "8        Road_traffic_density_Jam    0.285589\n",
      "2                    Festival_Yes    0.016823\n",
      "4   Weather_conditions_Sandstorms    0.009604\n",
      "15                     City_Urban    0.009191\n",
      "3          Weather_conditions_Fog    0.009126\n",
      "13            Type_of_order_Snack    0.009018\n",
      "6        Weather_conditions_Sunny    0.008687\n",
      "1                      is_weekend    0.008373\n",
      "11           Type_of_order_Drinks    0.007227\n",
      "\n",
      "Best model: GradientBoosting. Saved predictions to df['pickup_delay_pred'].\n"
     ]
    }
   ],
   "source": [
    "import numpy as np\n",
    "import pandas as pd\n",
    "from sklearn.model_selection import train_test_split\n",
    "from sklearn.metrics import mean_absolute_error, mean_squared_error\n",
    "from sklearn.linear_model import Ridge\n",
    "from sklearn.ensemble import RandomForestRegressor, GradientBoostingRegressor\n",
    "from sklearn.preprocessing import StandardScaler\n",
    "from sklearn.compose import ColumnTransformer\n",
    "from sklearn.pipeline import Pipeline\n",
    "\n",
    "# ==== Features at order placement ====\n",
    "fixed = ['order_hour', 'is_weekend', 'Festival_Yes']\n",
    "prefixes = ['Weather_conditions_', 'Road_traffic_density_', 'Type_of_order_', 'City_']\n",
    "candidates = fixed + [c for c in df.columns if any(c.startswith(p) for p in prefixes)]\n",
    "features_pd = [c for c in candidates if c in df.columns]\n",
    "\n",
    "# ==== Target ====\n",
    "target_pd = 'pickup_delay'\n",
    "assert target_pd in df.columns, \"pickup_delay column not found.\"\n",
    "df[target_pd] = df[target_pd].clip(lower=0, upper=180)\n",
    "\n",
    "X = df[features_pd].copy().fillna(0)\n",
    "y = df[target_pd].astype(float).values\n",
    "\n",
    "# Train/validation split (keep as your current setup)\n",
    "X_train, X_val, y_train, y_val = train_test_split(\n",
    "    X, y, test_size=0.2, random_state=42\n",
    ")\n",
    "\n",
    "# Numeric columns to scale for Ridge (leave one-hots as passthrough)\n",
    "num_cols = [c for c in ['order_hour', 'is_weekend', 'Festival_Yes'] if c in X.columns]\n",
    "ridge_pipe = Pipeline([\n",
    "    (\"scale_num\", ColumnTransformer([(\"num\", StandardScaler(), num_cols)], remainder=\"passthrough\")),\n",
    "    (\"model\", Ridge(alpha=2.0, random_state=42))\n",
    "])\n",
    "\n",
    "models = {\n",
    "    \"Ridge\": ridge_pipe,\n",
    "    \"RandomForest\": RandomForestRegressor(\n",
    "        n_estimators=300, max_depth=14, min_samples_leaf=2, random_state=42, n_jobs=-1\n",
    "    ),\n",
    "    \"GradientBoosting\": GradientBoostingRegressor(\n",
    "        n_estimators=400, learning_rate=0.05, max_depth=3, subsample=0.8, random_state=42\n",
    "    ),\n",
    "}\n",
    "\n",
    "results = []\n",
    "fitted = {}\n",
    "\n",
    "for name, mdl in models.items():\n",
    "    mdl.fit(X_train, y_train)\n",
    "    y_hat = mdl.predict(X_val)\n",
    "    mae = mean_absolute_error(y_val, y_hat)\n",
    "    rmse = np.sqrt(mean_squared_error(y_val, y_hat))\n",
    "    results.append({\"Model\": name, \"MAE\": mae, \"RMSE\": rmse})\n",
    "    fitted[name] = mdl\n",
    "\n",
    "# Leaderboard\n",
    "leaderboard = pd.DataFrame(results).sort_values(\"MAE\").reset_index(drop=True)\n",
    "print(\"\\n=== Pickup Delay: Model Comparison ===\")\n",
    "print(leaderboard)\n",
    "\n",
    "# Top features per model\n",
    "def show_top_features(name, mdl, k=10):\n",
    "    print(f\"\\nTop features — {name}:\")\n",
    "    # If it's a pipeline (Ridge), pull the final estimator and transformed feature names\n",
    "    if isinstance(mdl, Pipeline):\n",
    "        final = mdl.named_steps[\"model\"]\n",
    "        pre = mdl.named_steps[\"scale_num\"]\n",
    "        # ColumnTransformer with remainder='passthrough' keeps original order:\n",
    "        # first num_cols (scaled), then the rest unchanged.\n",
    "        feat_names = list(X.columns)  # good enough for quick readout\n",
    "        if hasattr(final, \"coef_\"):\n",
    "            coefs = np.ravel(final.coef_)\n",
    "            top = (pd.DataFrame({\"Feature\": feat_names, \"Weight\": coefs})\n",
    "                   .assign(Abs=np.abs(coefs))\n",
    "                   .sort_values(\"Abs\", ascending=False)\n",
    "                   .drop(columns=[\"Abs\"])\n",
    "                   .head(k))\n",
    "            print(top)\n",
    "            return\n",
    "        mdl = final  # fallthrough to tree path if needed\n",
    "\n",
    "    if hasattr(mdl, \"feature_importances_\"):\n",
    "        top = (pd.DataFrame({\"Feature\": X.columns, \"Importance\": mdl.feature_importances_})\n",
    "               .sort_values(\"Importance\", ascending=False)\n",
    "               .head(k))\n",
    "        print(top)\n",
    "\n",
    "for name, mdl in fitted.items():\n",
    "    show_top_features(name, mdl, k=10)\n",
    "\n",
    "# Use the best model to generate predictions for entire dataset\n",
    "best_name = leaderboard.iloc[0][\"Model\"]\n",
    "best_model = fitted[best_name]\n",
    "df['pickup_delay_pred'] = best_model.predict(X)\n",
    "print(f\"\\nBest model: {best_name}. Saved predictions to df['pickup_delay_pred'].\")\n"
   ]
  },
  {
   "cell_type": "markdown",
   "id": "e993936f",
   "metadata": {},
   "source": [
    "Predicting after pickup time"
   ]
  },
  {
   "cell_type": "code",
   "execution_count": 22,
   "id": "158449f3",
   "metadata": {},
   "outputs": [
    {
     "name": "stdout",
     "output_type": "stream",
     "text": [
      "\n",
      "=== Post-pickup ETA: Model Comparison ===\n",
      "              Model        MAE       RMSE\n",
      "0      RandomForest   9.886156  19.228755\n",
      "1  GradientBoosting  10.314682  19.384220\n",
      "2             Ridge  15.523516  28.842298\n",
      "\n",
      "Top features — RandomForest:\n",
      "                         Feature  Importance\n",
      "0       Road_traffic_density_Low    0.421534\n",
      "1                    pickup_hour    0.280789\n",
      "2                    distance_km    0.081887\n",
      "3        Delivery_person_Ratings    0.057776\n",
      "4            Delivery_person_Age    0.056657\n",
      "5              Vehicle_condition    0.021098\n",
      "6       Weather_conditions_Sunny    0.013702\n",
      "7            multiple_deliveries    0.012270\n",
      "8         Weather_conditions_Fog    0.008869\n",
      "9  Weather_conditions_Sandstorms    0.005316\n",
      "\n",
      "Top features — GradientBoosting:\n",
      "                    Feature  Importance\n",
      "0  Road_traffic_density_Low    0.441065\n",
      "1               pickup_hour    0.348911\n",
      "2  Road_traffic_density_Jam    0.077502\n",
      "3               distance_km    0.037207\n",
      "4         Vehicle_condition    0.023022\n",
      "5       Delivery_person_Age    0.022086\n",
      "6   Delivery_person_Ratings    0.018226\n",
      "7       multiple_deliveries    0.009425\n",
      "8  Weather_conditions_Sunny    0.008736\n",
      "9              Festival_Yes    0.004362\n"
     ]
    }
   ],
   "source": [
    "import pandas as pd\n",
    "import numpy as np\n",
    "from sklearn.model_selection import train_test_split\n",
    "from sklearn.linear_model import Ridge\n",
    "from sklearn.ensemble import RandomForestRegressor, GradientBoostingRegressor\n",
    "from sklearn.metrics import mean_absolute_error, mean_squared_error\n",
    "\n",
    "# ====== Feature set & target (same as yours) ======\n",
    "features = [\n",
    "    'Delivery_person_Age', 'Delivery_person_Ratings', 'Vehicle_condition',\n",
    "    'multiple_deliveries',\n",
    "    'Weather_conditions_Fog', 'Weather_conditions_Sandstorms',\n",
    "    'Weather_conditions_Stormy', 'Weather_conditions_Sunny', 'Weather_conditions_Windy',\n",
    "    'Road_traffic_density_Jam', 'Road_traffic_density_Low', 'Road_traffic_density_Medium',\n",
    "    'Type_of_vehicle_electric_scooter', 'Type_of_vehicle_motorcycle', 'Type_of_vehicle_scooter',\n",
    "    'Festival_Yes', 'City_Semi-Urban', 'City_Urban',\n",
    "    'pickup_hour', 'is_weekend', 'distance_km'\n",
    "]\n",
    "target = 'travel_time_after_pickup'\n",
    "\n",
    "X = df[features].copy()\n",
    "y = df[target].astype(float).values\n",
    "\n",
    "# Optional: simple fill for any residual NaNs\n",
    "X = X.fillna(0)\n",
    "\n",
    "# ====== Train/Test Split (same as yours) ======\n",
    "X_train, X_test, y_train, y_test = train_test_split(\n",
    "    X, y, test_size=0.20, random_state=42\n",
    ")\n",
    "\n",
    "# ====== Models ======\n",
    "models = {\n",
    "    \"Ridge\": Ridge(alpha=2.0, random_state=42),\n",
    "    \"RandomForest\": RandomForestRegressor(\n",
    "        n_estimators=200, max_depth=12, random_state=42, n_jobs=-1\n",
    "    ),\n",
    "    \"GradientBoosting\": GradientBoostingRegressor(\n",
    "        n_estimators=400, learning_rate=0.05, max_depth=3, subsample=0.8, random_state=42\n",
    "    ),\n",
    "}\n",
    "\n",
    "results = []\n",
    "importances = {}\n",
    "\n",
    "for name, model in models.items():\n",
    "    model.fit(X_train, y_train)\n",
    "    y_pred = model.predict(X_test)\n",
    "\n",
    "    mae = mean_absolute_error(y_test, y_pred)\n",
    "    rmse = np.sqrt(mean_squared_error(y_test, y_pred))\n",
    "\n",
    "    results.append({\"Model\": name, \"MAE\": mae, \"RMSE\": rmse})\n",
    "\n",
    "    # Save feature importances for tree models\n",
    "    if hasattr(model, \"feature_importances_\"):\n",
    "        importances[name] = (\n",
    "            pd.DataFrame({\"Feature\": features, \"Importance\": model.feature_importances_})\n",
    "            .sort_values(\"Importance\", ascending=False)\n",
    "            .reset_index(drop=True)\n",
    "        )\n",
    "\n",
    "# ====== Leaderboard ======\n",
    "leaderboard = pd.DataFrame(results).sort_values(\"MAE\").reset_index(drop=True)\n",
    "print(\"\\n=== Post-pickup ETA: Model Comparison ===\")\n",
    "print(leaderboard)\n",
    "\n",
    "# ====== Top features for tree models ======\n",
    "for name, imp_df in importances.items():\n",
    "    print(f\"\\nTop features — {name}:\")\n",
    "    print(imp_df.head(10))\n"
   ]
  },
  {
   "cell_type": "code",
   "execution_count": null,
   "id": "be01257e",
   "metadata": {},
   "outputs": [],
   "source": []
  }
 ],
 "metadata": {
  "kernelspec": {
   "display_name": "base",
   "language": "python",
   "name": "python3"
  },
  "language_info": {
   "codemirror_mode": {
    "name": "ipython",
    "version": 3
   },
   "file_extension": ".py",
   "mimetype": "text/x-python",
   "name": "python",
   "nbconvert_exporter": "python",
   "pygments_lexer": "ipython3",
   "version": "3.11.7"
  }
 },
 "nbformat": 4,
 "nbformat_minor": 5
}
